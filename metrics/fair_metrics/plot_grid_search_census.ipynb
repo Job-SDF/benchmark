{
  "cells": [
    {
      "cell_type": "markdown",
      "metadata": {},
      "source": [
        "GridSearch with Census Data\n===========================\n"
      ]
    },
    {
      "cell_type": "markdown",
      "metadata": {},
      "source": [
        "Census dataset. This dataset is a classification problem - given a range\nof data about 32,000 individuals, predict whether their annual income is\nabove or below fifty thousand dollars per year.\n\nFor the purposes of this notebook, we shall treat this as a loan\ndecision problem. We will pretend that the label indicates whether or\nnot each individual repaid a loan in the past. We will use the data to\ntrain a predictor to predict whether previously unseen individuals will\nrepay a loan or not. The assumption is that the model predictions are\nused to decide whether an individual should be offered a loan.\n\nWe will first train a fairness-unaware predictor and show that it leads\nto unfair decisions under a specific notion of fairness called\n*demographic parity*. We then mitigate unfairness by applying the\n`GridSearch` algorithm from the Fairlearn package.\n"
      ]
    },
    {
      "cell_type": "markdown",
      "metadata": {},
      "source": [
        "Load and preprocess the data set\n================================\n\nWe download the data set using [fetch\\_adult]{.title-ref} function in\n[fairlearn.datasets]{.title-ref}. We start by importing the various\nmodules we\\'re going to use:\n"
      ]
    },
    {
      "cell_type": "code",
      "execution_count": null,
      "metadata": {
        "collapsed": false
      },
      "outputs": [],
      "source": [
        "import matplotlib.pyplot as plt\nimport pandas as pd\nfrom sklearn import metrics as skm\nfrom sklearn.linear_model import LogisticRegression\nfrom sklearn.model_selection import train_test_split\nfrom sklearn.preprocessing import LabelEncoder, StandardScaler\n\nfrom fairlearn.datasets import fetch_adult\nfrom fairlearn.metrics import (\n    MetricFrame,\n    count,\n    plot_model_comparison,\n    selection_rate,\n    selection_rate_difference,\n)\nfrom fairlearn.reductions import DemographicParity, ErrorRate, GridSearch"
      ]
    },
    {
      "cell_type": "markdown",
      "metadata": {},
      "source": [
        "We can now load and inspect the data by using the\n[fairlearn.datasets]{.title-ref} module:\n"
      ]
    },
    {
      "cell_type": "code",
      "execution_count": null,
      "metadata": {
        "collapsed": false
      },
      "outputs": [],
      "source": [
        "data = fetch_adult()\nX_raw = data.data\nY = (data.target == \">50K\") * 1\nX_raw"
      ]
    },
    {
      "cell_type": "markdown",
      "metadata": {},
      "source": [
        "We are going to treat the sex of each individual as a sensitive feature\n(where 0 indicates female and 1 indicates male), and in this particular\ncase we are going separate this feature out and drop it from the main\ndata. We then perform some standard data preprocessing steps to convert\nthe data into a format suitable for the ML algorithms\n"
      ]
    },
    {
      "cell_type": "code",
      "execution_count": null,
      "metadata": {
        "collapsed": false
      },
      "outputs": [],
      "source": [
        "A = X_raw[\"sex\"]\nX = X_raw.drop(labels=[\"sex\"], axis=1)\nX = pd.get_dummies(X)\n\nsc = StandardScaler()\nX_scaled = sc.fit_transform(X)\nX_scaled = pd.DataFrame(X_scaled, columns=X.columns)\n\nle = LabelEncoder()\nY = le.fit_transform(Y)"
      ]
    },
    {
      "cell_type": "markdown",
      "metadata": {},
      "source": [
        "Finally, we split the data into training and test sets:\n"
      ]
    },
    {
      "cell_type": "code",
      "execution_count": null,
      "metadata": {
        "collapsed": false
      },
      "outputs": [],
      "source": [
        "X_train, X_test, Y_train, Y_test, A_train, A_test = train_test_split(\n    X_scaled, Y, A, test_size=0.4, random_state=0, stratify=Y\n)\n\n# Work around indexing bug\nX_train = X_train.reset_index(drop=True)\nA_train = A_train.reset_index(drop=True)\nX_test = X_test.reset_index(drop=True)\nA_test = A_test.reset_index(drop=True)"
      ]
    },
    {
      "cell_type": "markdown",
      "metadata": {},
      "source": [
        "Training a fairness-unaware predictor\n=====================================\n\nTo show the effect of Fairlearn we will first train a standard ML\npredictor that does not incorporate fairness. For speed of\ndemonstration, we use the simple\n`sklearn.linear_model.LogisticRegression`{.interpreted-text\nrole=\"class\"} class:\n"
      ]
    },
    {
      "cell_type": "code",
      "execution_count": null,
      "metadata": {
        "collapsed": false
      },
      "outputs": [],
      "source": [
        "unmitigated_predictor = LogisticRegression(solver=\"liblinear\", fit_intercept=True)\n\nunmitigated_predictor.fit(X_train, Y_train)"
      ]
    },
    {
      "cell_type": "markdown",
      "metadata": {},
      "source": [
        "We can start to assess the predictor\\'s fairness using the\n\\`MetricFrame\\`:\n"
      ]
    },
    {
      "cell_type": "code",
      "execution_count": null,
      "metadata": {
        "collapsed": false
      },
      "outputs": [],
      "source": [
        "metric_frame = MetricFrame(\n    metrics={\n        \"accuracy\": skm.accuracy_score,\n        \"selection_rate\": selection_rate,\n        \"count\": count,\n    },\n    sensitive_features=A_test,\n    y_true=Y_test,\n    y_pred=unmitigated_predictor.predict(X_test),\n)\nprint(metric_frame.overall)\nprint(metric_frame.by_group)\nmetric_frame.by_group.plot.bar(\n    subplots=True,\n    layout=[3, 1],\n    legend=False,\n    figsize=[12, 8],\n    title=\"Accuracy and selection rate by group\",\n)"
      ]
    },
    {
      "cell_type": "markdown",
      "metadata": {},
      "source": [
        "Looking at the disparity in accuracy, we see that males have an error\nabout three times greater than the females. More interesting is the\ndisparity in opportunity - males are offered loans at three times the\nrate of females.\n\nDespite the fact that we removed the feature from the training data, our\npredictor still discriminates based on sex. This demonstrates that\nsimply ignoring a sensitive feature when fitting a predictor rarely\neliminates unfairness. There will generally be enough other features\ncorrelated with the removed feature to lead to disparate impact.\n"
      ]
    },
    {
      "cell_type": "markdown",
      "metadata": {},
      "source": [
        "Mitigation with GridSearch\n==========================\n\nThe `fairlearn.reductions.GridSearch`{.interpreted-text role=\"class\"}\nclass implements a simplified version of the exponentiated gradient\nreduction of [Agarwal et al. 2018](https://arxiv.org/abs/1803.02453).\nThe user supplies a standard ML estimator, which is treated as a\nblackbox. [GridSearch]{.title-ref} works by generating a sequence of\nrelabellings and reweightings, and trains a predictor for each.\n\nFor this example, we specify demographic parity (on the sensitive\nfeature of sex) as the fairness metric. Demographic parity requires that\nindividuals are offered the opportunity (are approved for a loan in this\nexample) independent of membership in the sensitive class (i.e., females\nand males should be offered loans at the same rate). We are using this\nmetric for the sake of simplicity; in general, the appropriate fairness\nmetric will not be obvious.\n"
      ]
    },
    {
      "cell_type": "code",
      "execution_count": null,
      "metadata": {
        "collapsed": false
      },
      "outputs": [],
      "source": [
        "sweep = GridSearch(\n    LogisticRegression(solver=\"liblinear\", fit_intercept=True),\n    constraints=DemographicParity(),\n    grid_size=31,\n)"
      ]
    },
    {
      "cell_type": "markdown",
      "metadata": {},
      "source": [
        "Our algorithms provide `fit()` and `predict()` methods, so they behave\nin a similar manner to other ML packages in Python. We do however have\nto specify two extra arguments to `fit()` - the column of sensitive\nfeature labels, and also the number of predictors to generate in our\nsweep.\n\nAfter `fit()` completes, we extract the full set of predictors from the\n`fairlearn.reductions.GridSearch`{.interpreted-text role=\"class\"}\nobject.\n"
      ]
    },
    {
      "cell_type": "code",
      "execution_count": null,
      "metadata": {
        "collapsed": false
      },
      "outputs": [],
      "source": [
        "sweep.fit(X_train, Y_train, sensitive_features=A_train)\n\npredictors = sweep.predictors_"
      ]
    },
    {
      "cell_type": "markdown",
      "metadata": {},
      "source": [
        "We could plot performance and fairness metrics of these predictors now.\nHowever, the plot would be somewhat confusing due to the number of\nmodels. In this case, we are going to remove the predictors which are\ndominated in the error-disparity space by others from the sweep (note\nthat the disparity will only be calculated for the sensitive feature;\nother potentially sensitive features will not be mitigated). In general,\none might not want to do this, since there may be other considerations\nbeyond the strict optimization of error and disparity (of the given\nsensitive feature).\n"
      ]
    },
    {
      "cell_type": "code",
      "execution_count": null,
      "metadata": {
        "collapsed": false
      },
      "outputs": [],
      "source": [
        "errors, disparities = [], []\nfor m in predictors:\n\n    def classifier(X):\n        return m.predict(X)\n\n    error = ErrorRate()\n    error.load_data(X_train, pd.Series(Y_train), sensitive_features=A_train)\n    disparity = DemographicParity()\n    disparity.load_data(X_train, pd.Series(Y_train), sensitive_features=A_train)\n\n    errors.append(error.gamma(classifier).iloc[0])\n    disparities.append(disparity.gamma(classifier).max())\n\nall_results = pd.DataFrame({\"predictor\": predictors, \"error\": errors, \"disparity\": disparities})\n\nnon_dominated = []\nfor row in all_results.itertuples():\n    errors_for_lower_or_eq_disparity = all_results[\"error\"][\n        all_results[\"disparity\"] <= row.disparity\n    ]\n    if row.error <= errors_for_lower_or_eq_disparity.min():\n        non_dominated.append(row.predictor)"
      ]
    },
    {
      "cell_type": "markdown",
      "metadata": {},
      "source": [
        "Finally, we can evaluate the dominant models along with the unmitigated\nmodel.\n"
      ]
    },
    {
      "cell_type": "code",
      "execution_count": null,
      "metadata": {
        "collapsed": false
      },
      "outputs": [],
      "source": [
        "predictions = {\"unmitigated\": unmitigated_predictor.predict(X_test)}\nmetric_frames = {\"unmitigated\": metric_frame}\nfor i in range(len(non_dominated)):\n    key = \"dominant_model_{0}\".format(i)\n    predictions[key] = non_dominated[i].predict(X_test)\n\n    metric_frames[key] = MetricFrame(\n        metrics={\n            \"accuracy\": skm.accuracy_score,\n            \"selection_rate\": selection_rate,\n            \"count\": count,\n        },\n        sensitive_features=A_test,\n        y_true=Y_test,\n        y_pred=predictions[key],\n    )\n\n\nx = [metric_frame.overall[\"accuracy\"] for metric_frame in metric_frames.values()]\ny = [metric_frame.difference()[\"selection_rate\"] for metric_frame in metric_frames.values()]\nkeys = list(metric_frames.keys())\nplt.scatter(x, y)\nfor i in range(len(x)):\n    plt.annotate(keys[i], (x[i] + 0.0003, y[i]))\nplt.xlabel(\"accuracy\")\nplt.ylabel(\"selection rate difference\")"
      ]
    },
    {
      "cell_type": "markdown",
      "metadata": {},
      "source": [
        "We see a Pareto front forming - the set of predictors which represent\noptimal tradeoffs between accuracy and disparity in predictions. In the\nideal case, we would have a predictor at (1,0) - perfectly accurate and\nwithout any unfairness under demographic parity (with respect to the\nsensitive feature \\\"sex\\\"). The Pareto front represents the closest we\ncan come to this ideal based on our data and choice of estimator. Note\nthe range of the axes - the disparity axis covers more values than the\naccuracy, so we can reduce disparity substantially for a small loss in\naccuracy.\n\nIn a real example, we would pick the model which represented the best\ntrade-off between accuracy and disparity given the relevant business\nconstraints.\n\n%% \\[markdown\\] Comparing models easily\n\\-\\-\\-\\-\\-\\-\\-\\-\\-\\-\\-\\-\\-\\-\\-\\-\\-\\-\\-\\-\\-\\--Fairlearn also provides\nfunctionality to compare models much more easily.\n"
      ]
    },
    {
      "cell_type": "code",
      "execution_count": null,
      "metadata": {
        "collapsed": false
      },
      "outputs": [],
      "source": [
        "# Plot model comparison\nplot_model_comparison(\n    x_axis_metric=skm.accuracy_score,\n    y_axis_metric=selection_rate_difference,\n    y_true=Y_test,\n    y_preds=predictions,\n    sensitive_features=A_test,\n    point_labels=True,\n    show_plot=True,\n)\n# End model comparison"
      ]
    }
  ],
  "metadata": {
    "kernelspec": {
      "display_name": "Python 3",
      "language": "python",
      "name": "python3"
    },
    "language_info": {
      "codemirror_mode": {
        "name": "ipython",
        "version": 3
      },
      "file_extension": ".py",
      "mimetype": "text/x-python",
      "name": "python",
      "nbconvert_exporter": "python",
      "pygments_lexer": "ipython3",
      "version": "3.11.5"
    }
  },
  "nbformat": 4,
  "nbformat_minor": 0
}