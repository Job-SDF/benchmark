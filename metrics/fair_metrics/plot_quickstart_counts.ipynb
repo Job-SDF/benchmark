{
  "cells": [
    {
      "cell_type": "markdown",
      "metadata": {},
      "source": [
        "Value counts\n============\n"
      ]
    },
    {
      "cell_type": "code",
      "execution_count": null,
      "metadata": {
        "collapsed": false
      },
      "outputs": [],
      "source": [
        "import matplotlib.pyplot as plt\n\nfrom fairlearn.datasets import fetch_diabetes_hospital"
      ]
    },
    {
      "cell_type": "code",
      "execution_count": null,
      "metadata": {
        "collapsed": false
      },
      "outputs": [],
      "source": [
        "fig, ax = plt.subplots()\n\ndata = fetch_diabetes_hospital(as_frame=True)\nX = data.data.copy()\nX.drop(columns=[\"readmitted\", \"readmit_binary\"], inplace=True)\ny_true = data.target\nrace = X[\"race\"]\n\ndf = race.value_counts().reset_index()\n\nax.bar(df[\"race\"], df[\"count\"])\nax.set_title(\"Counts by race\")\nax.tick_params(axis=\"x\", labelrotation=45)\n\nplt.tight_layout()\nplt.show()"
      ]
    }
  ],
  "metadata": {
    "kernelspec": {
      "display_name": "Python 3",
      "language": "python",
      "name": "python3"
    },
    "language_info": {
      "codemirror_mode": {
        "name": "ipython",
        "version": 3
      },
      "file_extension": ".py",
      "mimetype": "text/x-python",
      "name": "python",
      "nbconvert_exporter": "python",
      "pygments_lexer": "ipython3",
      "version": "3.11.5"
    }
  },
  "nbformat": 4,
  "nbformat_minor": 0
}