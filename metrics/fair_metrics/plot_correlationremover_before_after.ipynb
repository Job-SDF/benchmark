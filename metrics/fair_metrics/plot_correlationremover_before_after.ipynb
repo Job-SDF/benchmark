{
  "cells": [
    {
      "cell_type": "markdown",
      "metadata": {},
      "source": [
        "CorrelationRemover visualization\n================================\n"
      ]
    },
    {
      "cell_type": "markdown",
      "metadata": {},
      "source": [
        "This notebook demonstrates the use of the\n`fairlearn.preprocessing.CorrelationRemover`{.interpreted-text\nrole=\"func\"} class. We will show this by looking at the correlation\nmatrices of the dataset before and after the CorrelationRemover.\n\nGetting the Data\n================\n\n*This section may be skipped. It simply creates a dataset for\nillustrative purposes*\n\nWe will use the well-known UCI \\'Adult\\' dataset as the basis of this\ndemonstration. This is not for a lending scenario, but we will regard it\nas one for the purposes of this example. We will use the existing\n\\'sex\\' column to illustrate how the CorrelationRemover works. We start\nwith some\\`import\\` statements:\n"
      ]
    },
    {
      "cell_type": "code",
      "execution_count": null,
      "metadata": {
        "collapsed": false
      },
      "outputs": [],
      "source": [
        "import matplotlib.pyplot as plt\nimport numpy as np\nimport pandas as pd\n\nfrom fairlearn.datasets import fetch_diabetes_hospital\nfrom fairlearn.preprocessing import CorrelationRemover"
      ]
    },
    {
      "cell_type": "markdown",
      "metadata": {},
      "source": [
        "Next, we import the data and transform the \\'sex\\' column to a binary\nfeature. We also drop most dummy columns that are created, since we are\nlooking specifically at the African American race. Finally, the columns\nare rearranged for consistency.\n"
      ]
    },
    {
      "cell_type": "code",
      "execution_count": null,
      "metadata": {
        "collapsed": false
      },
      "outputs": [],
      "source": [
        "data = fetch_diabetes_hospital()\nX_raw = data.data[[\"race\", \"time_in_hospital\", \"had_inpatient_days\", \"medicare\"]]\nX_raw = pd.get_dummies(X_raw)\ny = data.target\n\nX_raw = X_raw.drop(\n    [\n        \"race_Asian\",\n        \"race_Caucasian\",\n        \"race_Hispanic\",\n        \"race_Other\",\n        \"race_Unknown\",\n        \"had_inpatient_days_False\",\n        \"medicare_False\",\n    ],\n    axis=1,\n)\n\nX_raw = X_raw[\n    [\n        \"time_in_hospital\",\n        \"had_inpatient_days_True\",\n        \"medicare_True\",\n        \"race_AfricanAmerican\",\n    ]\n]"
      ]
    },
    {
      "cell_type": "markdown",
      "metadata": {},
      "source": [
        "We are now going to fit the CorrelationRemover to the data, and\ntransform it. The transformed array will be placed back in a Pandas\nDataFrame, for plotting purposes.\n"
      ]
    },
    {
      "cell_type": "code",
      "execution_count": null,
      "metadata": {
        "collapsed": false
      },
      "outputs": [],
      "source": [
        "cr = CorrelationRemover(sensitive_feature_ids=[\"race_AfricanAmerican\"])\nX_cr = cr.fit_transform(X_raw)\nX_cr = pd.DataFrame(X_cr, columns=[\"time_in_hospital\", \"had_inpatient_days_True\", \"medicare_True\"])\nX_cr[\"race_AfricanAmerican\"] = X_raw[\"race_AfricanAmerican\"]\n\ncr_alpha = CorrelationRemover(sensitive_feature_ids=[\"race_AfricanAmerican\"], alpha=0.5)\nX_cr_alpha = cr_alpha.fit_transform(X_raw)\nX_cr_alpha = pd.DataFrame(\n    X_cr_alpha, columns=[\"time_in_hospital\", \"had_inpatient_days_True\", \"medicare_True\"]\n)\nX_cr_alpha[\"race_AfricanAmerican\"] = X_raw[\"race_AfricanAmerican\"]"
      ]
    },
    {
      "cell_type": "markdown",
      "metadata": {},
      "source": [
        "We can now plot the correlation matrices before and after the\nCorrelationRemover. The code is from the [matplotlib\ndocs](https://matplotlib.org/devdocs/gallery/images_contours_and_fields/image_annotated_heatmap.html).\n"
      ]
    },
    {
      "cell_type": "code",
      "execution_count": null,
      "metadata": {
        "collapsed": false
      },
      "outputs": [],
      "source": [
        "def plot_heatmap(df, title):\n    df[\"target\"] = y\n    df = df.rename(columns={\"had_inpatient_days_True\": \"had_inpatient_days\"})\n    cols = list(df.columns)\n\n    fig, ax = plt.subplots(figsize=(8, 6))\n    ax.imshow(round(df.corr(), 2), cmap=\"coolwarm\")\n\n    # Show all ticks and label them with the respective list entries\n    ax.set_xticks(np.arange(len(cols)))\n    ax.set_xticklabels(cols)\n    ax.set_yticks(np.arange(len(cols)))\n    ax.set_yticklabels(cols)\n\n    # Rotate the tick labels and set their alignment.\n    plt.setp(ax.get_xticklabels(), rotation=15, ha=\"right\", rotation_mode=\"anchor\")\n\n    # Loop over data dimensions and create text annotations.\n    for i in range(len(cols)):\n        for j in range(len(cols)):\n            ax.text(\n                j,\n                i,\n                round(df.corr().to_numpy()[i, j], 2),\n                ha=\"center\",\n                va=\"center\",\n            )\n\n    ax.set_title(f\"{title}\")\n    plt.show()\n\n\nplot_heatmap(X_raw, \"Correlation values in the original dataset\")\nplot_heatmap(X_cr, \"Correlation values after CorrelationRemover\")\nplot_heatmap(X_cr_alpha, \"Correlation values after CorrelationRemover with alpha = 0.5\")"
      ]
    },
    {
      "cell_type": "markdown",
      "metadata": {},
      "source": [
        "Even though there was not a high amount of correlation to begin with,\nthe CorrelationRemover successfully removed all correlation between\n\\'race\\_AfricanAmerican\\' and the other columns while retaining the\ncorrelation between the other features. Using a lower value of alpha\nresults in not all the correlation being projected away.\n"
      ]
    }
  ],
  "metadata": {
    "kernelspec": {
      "display_name": "Python 3",
      "language": "python",
      "name": "python3"
    },
    "language_info": {
      "codemirror_mode": {
        "name": "ipython",
        "version": 3
      },
      "file_extension": ".py",
      "mimetype": "text/x-python",
      "name": "python",
      "nbconvert_exporter": "python",
      "pygments_lexer": "ipython3",
      "version": "3.11.5"
    }
  },
  "nbformat": 4,
  "nbformat_minor": 0
}