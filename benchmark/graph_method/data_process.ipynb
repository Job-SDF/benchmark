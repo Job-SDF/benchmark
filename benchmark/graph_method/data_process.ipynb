{
 "cells": [
  {
   "cell_type": "code",
   "execution_count": 9,
   "metadata": {},
   "outputs": [],
   "source": [
    "import pandas as pd\n",
    "import json\n",
    "for data_name in ['company']:\n",
    "    for mode in ['rate', 'count']:\n",
    "        graph_data = {}\n",
    "        \n",
    "        data = pd.read_parquet(f'../../dataset/{mode}/{data_name}.parquet')\n",
    "        df = pd.read_parquet(f'../../dataset/graph/{data_name}.parquet')\n",
    "\n",
    "        data['node_id'] = data.apply(lambda x: '-'.join([str(int(x[f\"{i}_id\"])) for i in data_name.split('-') + ['skill']]), axis=1)\n",
    "        data = data.drop([f'{i}_id' for i in data_name.split('-') + ['skill']], axis=1)\n",
    "        data = data.set_index(['node_id'])\n",
    "        FX = data.values.T.tolist()\n",
    "        graph_data['FX'] = FX\n",
    "\n",
    "        data = data.reset_index().reset_index()\n",
    "        graph_data['node_ids'] = {i:v for i,v in zip(data['node_id'], data['index'])}\n",
    "\n",
    "        df['row_id'] = df.apply(lambda x: '-'.join([str(x[f\"{i}_id\"]) for i in data_name.split('-') + ['row']]), axis=1)\n",
    "        df['col_id'] = df.apply(lambda x: '-'.join([str(x[f\"{i}_id\"]) for i in data_name.split('-') + ['col']]), axis=1)\n",
    "        df = df[['row_id', 'col_id']]\n",
    "        df['row_id'] = df['row_id'].apply(lambda x: graph_data['node_ids'][x])\n",
    "        df['col_id'] = df['col_id'].apply(lambda x: graph_data['node_ids'][x])\n",
    "        graph_data['edges'] = df.values.tolist()\n",
    "\n",
    "        json.dump(graph_data, open(f'data/{mode}/{data_name}.json', 'w'))"
   ]
  }
 ],
 "metadata": {
  "kernelspec": {
   "display_name": "base",
   "language": "python",
   "name": "python3"
  },
  "language_info": {
   "codemirror_mode": {
    "name": "ipython",
    "version": 3
   },
   "file_extension": ".py",
   "mimetype": "text/x-python",
   "name": "python",
   "nbconvert_exporter": "python",
   "pygments_lexer": "ipython3",
   "version": "3.8.13"
  },
  "orig_nbformat": 4
 },
 "nbformat": 4,
 "nbformat_minor": 2
}
